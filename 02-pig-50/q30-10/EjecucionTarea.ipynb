{
 "cells": [
  {
   "cell_type": "code",
   "execution_count": 5,
   "metadata": {},
   "outputs": [
    {
     "name": "stdout",
     "output_type": "stream",
     "text": [
      "The bigdata extension is already loaded. To reload it, use:\n",
      "  %reload_ext bigdata\n"
     ]
    }
   ],
   "source": [
    "%load_ext bigdata"
   ]
  },
  {
   "cell_type": "code",
   "execution_count": 6,
   "metadata": {},
   "outputs": [],
   "source": [
    "!rm -rf output"
   ]
  },
  {
   "cell_type": "code",
   "execution_count": 7,
   "metadata": {},
   "outputs": [
    {
     "name": "stdout",
     "output_type": "stream",
     "text": [
      " u = LOAD 'data.csv' USING PigStorage(',') \n",
      "    AS (id:int, \n",
      "        firstname:CHARARRAY, \n",
      "        surname:CHARARRAY, \n",
      "        birthday:CHARARRAY, \n",
      "        color:CHARARRAY, \n",
      "        quantity:INT);\n"
     ]
    }
   ],
   "source": [
    "%%pig\n",
    "\n",
    "u = LOAD 'data.csv' USING PigStorage(',') \n",
    "    AS (id:int, \n",
    "        firstname:CHARARRAY, \n",
    "        surname:CHARARRAY, \n",
    "        birthday:CHARARRAY, \n",
    "        color:CHARARRAY, \n",
    "        quantity:INT);"
   ]
  },
  {
   "cell_type": "code",
   "execution_count": 8,
   "metadata": {},
   "outputs": [
    {
     "name": "stdout",
     "output_type": "stream",
     "text": [
      " --\n",
      " -- >>> Escriba su respuesta a partir de este punto <<<\n",
      " --\n",
      " datos = FOREACH u GENERATE\n",
      "         ToString(ToDate(birthday, 'yyyy-MM-dd'),'yyyy-MM-dd'),\n",
      "        ToString(ToDate(birthday, 'yyyy-MM-dd'),'dd'),\n",
      "        ToString(ToDate(birthday, 'yyyy-MM-dd'),'d'),\n",
      "        LOWER(ToString(ToDate(birthday, 'yyyy-MM-dd'),'EEE')),\n",
      "        LOWER(ToString(ToDate(birthday, 'yyyy-MM-dd'),'EEE'));\n",
      " STORE datos INTO 'output' USING PigStorage(',');\n",
      "2020-01-29 01:13:30,234 [main] INFO  org.apache.hadoop.conf.Configuration.deprecation - mapred.textoutputformat.separator is deprecated. Instead, use mapreduce.output.textoutputformat.separator\n",
      "2020-01-29 01:13:30,792 [main] INFO  org.apache.hadoop.conf.Configuration.deprecation - session.id is deprecated. Instead, use dfs.metrics.session-id\n",
      "2020-01-29 01:13:30,794 [main] INFO  org.apache.hadoop.metrics.jvm.JvmMetrics - Initializing JVM Metrics with processName=JobTracker, sessionId=\n",
      "2020-01-29 01:13:30,845 [main] INFO  org.apache.hadoop.conf.Configuration.deprecation - mapred.job.reduce.markreset.buffer.percent is deprecated. Instead, use mapreduce.reduce.markreset.buffer.percent\n",
      "2020-01-29 01:13:30,852 [main] INFO  org.apache.hadoop.conf.Configuration.deprecation - mapred.output.compress is deprecated. Instead, use mapreduce.output.fileoutputformat.compress\n",
      "2020-01-29 01:13:30,869 [main] INFO  org.apache.hadoop.conf.Configuration.deprecation - mapred.submit.replication is deprecated. Instead, use mapreduce.client.submit.file.replication\n",
      "2020-01-29 01:13:31,133 [main] INFO  org.apache.hadoop.conf.Configuration.deprecation - mapred.job.tracker.http.address is deprecated. Instead, use mapreduce.jobtracker.http.address\n",
      "2020-01-29 01:13:31,150 [JobControl] INFO  org.apache.hadoop.metrics.jvm.JvmMetrics - Cannot initialize JVM Metrics with processName=JobTracker, sessionId= - already initialized\n",
      "2020-01-29 01:13:31,188 [JobControl] INFO  org.apache.hadoop.conf.Configuration.deprecation - mapred.task.id is deprecated. Instead, use mapreduce.task.attempt.id\n",
      "2020-01-29 01:13:31,281 [JobControl] WARN  org.apache.hadoop.mapreduce.JobResourceUploader - No job jar file set.  User classes may not be found. See Job or Job#setJar(String).\n",
      "2020-01-29 01:13:31,397 [JobControl] INFO  org.apache.hadoop.mapreduce.lib.input.FileInputFormat - Total input files to process : 1\n",
      "2020-01-29 01:13:31,448 [JobControl] INFO  org.apache.hadoop.mapreduce.JobSubmitter - number of splits:1\n",
      "2020-01-29 01:13:31,669 [JobControl] INFO  org.apache.hadoop.mapreduce.JobSubmitter - Submitting tokens for job: job_local759157516_0001\n",
      "2020-01-29 01:13:32,161 [JobControl] INFO  org.apache.hadoop.mapred.LocalDistributedCacheManager - Creating symlink: /tmp/hadoop-root/mapred/local/1580260411834/pig-0.17.0-core-h2.jar <- /datalake/evaluacion-final-jomontoyac-master/02-pig-50/q30-10/pig-0.17.0-core-h2.jar\n",
      "2020-01-29 01:13:32,169 [JobControl] WARN  org.apache.hadoop.fs.FileUtil - Command 'ln -s /tmp/hadoop-root/mapred/local/1580260411834/pig-0.17.0-core-h2.jar /datalake/evaluacion-final-jomontoyac-master/02-pig-50/q30-10/pig-0.17.0-core-h2.jar' failed 1 with: ln: failed to create symbolic link '/datalake/evaluacion-final-jomontoyac-master/02-pig-50/q30-10/pig-0.17.0-core-h2.jar': Protocol error\n",
      "\n",
      "2020-01-29 01:13:32,169 [JobControl] WARN  org.apache.hadoop.mapred.LocalDistributedCacheManager - Failed to create symlink: /tmp/hadoop-root/mapred/local/1580260411834/pig-0.17.0-core-h2.jar <- /datalake/evaluacion-final-jomontoyac-master/02-pig-50/q30-10/pig-0.17.0-core-h2.jar\n",
      "2020-01-29 01:13:32,169 [JobControl] INFO  org.apache.hadoop.mapred.LocalDistributedCacheManager - Localized file:/tmp/temp-1276592509/tmp1709574324/pig-0.17.0-core-h2.jar as file:/tmp/hadoop-root/mapred/local/1580260411834/pig-0.17.0-core-h2.jar\n",
      "2020-01-29 01:13:32,171 [JobControl] INFO  org.apache.hadoop.mapred.LocalDistributedCacheManager - Creating symlink: /tmp/hadoop-root/mapred/local/1580260411835/automaton-1.11-8.jar <- /datalake/evaluacion-final-jomontoyac-master/02-pig-50/q30-10/automaton-1.11-8.jar\n",
      "2020-01-29 01:13:32,177 [JobControl] WARN  org.apache.hadoop.fs.FileUtil - Command 'ln -s /tmp/hadoop-root/mapred/local/1580260411835/automaton-1.11-8.jar /datalake/evaluacion-final-jomontoyac-master/02-pig-50/q30-10/automaton-1.11-8.jar' failed 1 with: ln: failed to create symbolic link '/datalake/evaluacion-final-jomontoyac-master/02-pig-50/q30-10/automaton-1.11-8.jar': Protocol error\n",
      "\n",
      "2020-01-29 01:13:32,178 [JobControl] WARN  org.apache.hadoop.mapred.LocalDistributedCacheManager - Failed to create symlink: /tmp/hadoop-root/mapred/local/1580260411835/automaton-1.11-8.jar <- /datalake/evaluacion-final-jomontoyac-master/02-pig-50/q30-10/automaton-1.11-8.jar\n",
      "2020-01-29 01:13:32,178 [JobControl] INFO  org.apache.hadoop.mapred.LocalDistributedCacheManager - Localized file:/tmp/temp-1276592509/tmp-46565909/automaton-1.11-8.jar as file:/tmp/hadoop-root/mapred/local/1580260411835/automaton-1.11-8.jar\n",
      "2020-01-29 01:13:32,179 [JobControl] INFO  org.apache.hadoop.mapred.LocalDistributedCacheManager - Creating symlink: /tmp/hadoop-root/mapred/local/1580260411836/antlr-runtime-3.4.jar <- /datalake/evaluacion-final-jomontoyac-master/02-pig-50/q30-10/antlr-runtime-3.4.jar\n",
      "2020-01-29 01:13:32,185 [JobControl] WARN  org.apache.hadoop.fs.FileUtil - Command 'ln -s /tmp/hadoop-root/mapred/local/1580260411836/antlr-runtime-3.4.jar /datalake/evaluacion-final-jomontoyac-master/02-pig-50/q30-10/antlr-runtime-3.4.jar' failed 1 with: ln: failed to create symbolic link '/datalake/evaluacion-final-jomontoyac-master/02-pig-50/q30-10/antlr-runtime-3.4.jar': Protocol error\n",
      "\n",
      "2020-01-29 01:13:32,185 [JobControl] WARN  org.apache.hadoop.mapred.LocalDistributedCacheManager - Failed to create symlink: /tmp/hadoop-root/mapred/local/1580260411836/antlr-runtime-3.4.jar <- /datalake/evaluacion-final-jomontoyac-master/02-pig-50/q30-10/antlr-runtime-3.4.jar\n",
      "2020-01-29 01:13:32,185 [JobControl] INFO  org.apache.hadoop.mapred.LocalDistributedCacheManager - Localized file:/tmp/temp-1276592509/tmp1133952209/antlr-runtime-3.4.jar as file:/tmp/hadoop-root/mapred/local/1580260411836/antlr-runtime-3.4.jar\n",
      "2020-01-29 01:13:32,186 [JobControl] INFO  org.apache.hadoop.mapred.LocalDistributedCacheManager - Creating symlink: /tmp/hadoop-root/mapred/local/1580260411837/joda-time-2.9.3.jar <- /datalake/evaluacion-final-jomontoyac-master/02-pig-50/q30-10/joda-time-2.9.3.jar\n",
      "2020-01-29 01:13:32,192 [JobControl] WARN  org.apache.hadoop.fs.FileUtil - Command 'ln -s /tmp/hadoop-root/mapred/local/1580260411837/joda-time-2.9.3.jar /datalake/evaluacion-final-jomontoyac-master/02-pig-50/q30-10/joda-time-2.9.3.jar' failed 1 with: ln: failed to create symbolic link '/datalake/evaluacion-final-jomontoyac-master/02-pig-50/q30-10/joda-time-2.9.3.jar': Protocol error\n",
      "\n",
      "2020-01-29 01:13:32,192 [JobControl] WARN  org.apache.hadoop.mapred.LocalDistributedCacheManager - Failed to create symlink: /tmp/hadoop-root/mapred/local/1580260411837/joda-time-2.9.3.jar <- /datalake/evaluacion-final-jomontoyac-master/02-pig-50/q30-10/joda-time-2.9.3.jar\n",
      "2020-01-29 01:13:32,192 [JobControl] INFO  org.apache.hadoop.mapred.LocalDistributedCacheManager - Localized file:/tmp/temp-1276592509/tmp-1504095780/joda-time-2.9.3.jar as file:/tmp/hadoop-root/mapred/local/1580260411837/joda-time-2.9.3.jar\n",
      "2020-01-29 01:13:32,400 [JobControl] INFO  org.apache.hadoop.mapred.LocalDistributedCacheManager - file:/tmp/hadoop-root/mapred/local/1580260411834/pig-0.17.0-core-h2.jar\n",
      "2020-01-29 01:13:32,400 [JobControl] INFO  org.apache.hadoop.mapred.LocalDistributedCacheManager - file:/tmp/hadoop-root/mapred/local/1580260411835/automaton-1.11-8.jar\n",
      "2020-01-29 01:13:32,400 [JobControl] INFO  org.apache.hadoop.mapred.LocalDistributedCacheManager - file:/tmp/hadoop-root/mapred/local/1580260411836/antlr-runtime-3.4.jar\n",
      "2020-01-29 01:13:32,400 [JobControl] INFO  org.apache.hadoop.mapred.LocalDistributedCacheManager - file:/tmp/hadoop-root/mapred/local/1580260411837/joda-time-2.9.3.jar\n",
      "2020-01-29 01:13:32,409 [JobControl] INFO  org.apache.hadoop.mapreduce.Job - The url to track the job: http://localhost:8080/\n",
      "2020-01-29 01:13:32,413 [Thread-15] INFO  org.apache.hadoop.mapred.LocalJobRunner - OutputCommitter set in config null\n",
      "2020-01-29 01:13:32,565 [Thread-15] INFO  org.apache.hadoop.conf.Configuration.deprecation - mapred.textoutputformat.separator is deprecated. Instead, use mapreduce.output.textoutputformat.separator\n",
      "2020-01-29 01:13:32,568 [Thread-15] INFO  org.apache.hadoop.conf.Configuration.deprecation - mapred.job.reduce.markreset.buffer.percent is deprecated. Instead, use mapreduce.reduce.markreset.buffer.percent\n",
      "2020-01-29 01:13:32,569 [Thread-15] INFO  org.apache.hadoop.mapreduce.lib.output.FileOutputCommitter - File Output Committer Algorithm version is 1\n",
      "2020-01-29 01:13:32,570 [Thread-15] INFO  org.apache.hadoop.mapreduce.lib.output.FileOutputCommitter - FileOutputCommitter skip cleanup _temporary folders under output directory:false, ignore cleanup failures: false\n",
      "2020-01-29 01:13:32,571 [Thread-15] INFO  org.apache.hadoop.mapred.LocalJobRunner - OutputCommitter is org.apache.pig.backend.hadoop.executionengine.mapReduceLayer.PigOutputCommitter\n",
      "2020-01-29 01:13:32,661 [Thread-15] INFO  org.apache.hadoop.mapred.LocalJobRunner - Waiting for map tasks\n",
      "2020-01-29 01:13:32,663 [LocalJobRunner Map Task Executor #0] INFO  org.apache.hadoop.mapred.LocalJobRunner - Starting task: attempt_local759157516_0001_m_000000_0\n",
      "2020-01-29 01:13:32,793 [LocalJobRunner Map Task Executor #0] INFO  org.apache.hadoop.mapreduce.lib.output.FileOutputCommitter - File Output Committer Algorithm version is 1\n",
      "2020-01-29 01:13:32,793 [LocalJobRunner Map Task Executor #0] INFO  org.apache.hadoop.mapreduce.lib.output.FileOutputCommitter - FileOutputCommitter skip cleanup _temporary folders under output directory:false, ignore cleanup failures: false\n",
      "2020-01-29 01:13:32,843 [LocalJobRunner Map Task Executor #0] INFO  org.apache.hadoop.mapred.Task -  Using ResourceCalculatorProcessTree : [ ]\n",
      "2020-01-29 01:13:32,855 [LocalJobRunner Map Task Executor #0] INFO  org.apache.hadoop.mapred.MapTask - Processing split: Number of splits :1\n",
      "Total Length = 615\n",
      "Input split[0]:\n",
      "   Length = 615\n",
      "   ClassName: org.apache.hadoop.mapreduce.lib.input.FileSplit\n",
      "   Locations:\n",
      "\n",
      "-----------------------\n",
      "\n",
      "2020-01-29 01:13:32,900 [LocalJobRunner Map Task Executor #0] INFO  org.apache.hadoop.mapreduce.lib.output.FileOutputCommitter - File Output Committer Algorithm version is 1\n",
      "2020-01-29 01:13:32,900 [LocalJobRunner Map Task Executor #0] INFO  org.apache.hadoop.mapreduce.lib.output.FileOutputCommitter - FileOutputCommitter skip cleanup _temporary folders under output directory:false, ignore cleanup failures: false\n",
      "2020-01-29 01:13:33,147 [LocalJobRunner Map Task Executor #0] INFO  org.apache.hadoop.mapred.LocalJobRunner - \n",
      "2020-01-29 01:13:33,149 [LocalJobRunner Map Task Executor #0] INFO  org.apache.hadoop.mapred.Task - Task:attempt_local759157516_0001_m_000000_0 is done. And is in the process of committing\n",
      "2020-01-29 01:13:33,180 [LocalJobRunner Map Task Executor #0] INFO  org.apache.hadoop.mapred.LocalJobRunner - \n",
      "2020-01-29 01:13:33,180 [LocalJobRunner Map Task Executor #0] INFO  org.apache.hadoop.mapred.Task - Task attempt_local759157516_0001_m_000000_0 is allowed to commit now\n",
      "2020-01-29 01:13:33,210 [LocalJobRunner Map Task Executor #0] INFO  org.apache.hadoop.mapreduce.lib.output.FileOutputCommitter - Saved output of task 'attempt_local759157516_0001_m_000000_0' to file:/datalake/evaluacion-final-jomontoyac-master/02-pig-50/q30-10/output/_temporary/0/task_local759157516_0001_m_000000\n",
      "2020-01-29 01:13:33,212 [LocalJobRunner Map Task Executor #0] INFO  org.apache.hadoop.mapred.LocalJobRunner - map\n",
      "2020-01-29 01:13:33,212 [LocalJobRunner Map Task Executor #0] INFO  org.apache.hadoop.mapred.Task - Task 'attempt_local759157516_0001_m_000000_0' done.\n",
      "2020-01-29 01:13:33,218 [LocalJobRunner Map Task Executor #0] INFO  org.apache.hadoop.mapred.Task - Final Counters for attempt_local759157516_0001_m_000000_0: Counters: 15\n",
      "\tFile System Counters\n",
      "\t\tFILE: Number of bytes read=5801899\n",
      "\t\tFILE: Number of bytes written=12068681\n",
      "\t\tFILE: Number of read operations=0\n",
      "\t\tFILE: Number of large read operations=0\n",
      "\t\tFILE: Number of write operations=0\n",
      "\tMap-Reduce Framework\n",
      "\t\tMap input records=18\n",
      "\t\tMap output records=18\n",
      "\t\tInput split bytes=402\n",
      "\t\tSpilled Records=0\n",
      "\t\tFailed Shuffles=0\n",
      "\t\tMerged Map outputs=0\n",
      "\t\tGC time elapsed (ms)=0\n",
      "\t\tTotal committed heap usage (bytes)=398983168\n",
      "\tFile Input Format Counters \n",
      "\t\tBytes Read=0\n",
      "\tFile Output Format Counters \n",
      "\t\tBytes Written=0\n",
      "2020-01-29 01:13:33,218 [LocalJobRunner Map Task Executor #0] INFO  org.apache.hadoop.mapred.LocalJobRunner - Finishing task: attempt_local759157516_0001_m_000000_0\n",
      "2020-01-29 01:13:33,219 [Thread-15] INFO  org.apache.hadoop.mapred.LocalJobRunner - map task executor complete.\n",
      "2020-01-29 01:13:37,459 [main] INFO  org.apache.hadoop.metrics.jvm.JvmMetrics - Cannot initialize JVM Metrics with processName=JobTracker, sessionId= - already initialized\n",
      "2020-01-29 01:13:37,476 [main] INFO  org.apache.hadoop.metrics.jvm.JvmMetrics - Cannot initialize JVM Metrics with processName=JobTracker, sessionId= - already initialized\n",
      "2020-01-29 01:13:37,476 [main] INFO  org.apache.hadoop.conf.Configuration.deprecation - mapred.map.tasks is deprecated. Instead, use mapreduce.job.maps\n",
      "2020-01-29 01:13:37,477 [main] INFO  org.apache.hadoop.conf.Configuration.deprecation - mapred.reduce.tasks is deprecated. Instead, use mapreduce.job.reduces\n",
      "2020-01-29 01:13:37,478 [main] INFO  org.apache.hadoop.metrics.jvm.JvmMetrics - Cannot initialize JVM Metrics with processName=JobTracker, sessionId= - already initialized\n",
      "2020-01-29 01:13:37,548 [main] INFO  org.apache.hadoop.metrics.jvm.JvmMetrics - Cannot initialize JVM Metrics with processName=JobTracker, sessionId= - already initialized\n",
      "2020-01-29 01:13:37,550 [main] INFO  org.apache.hadoop.metrics.jvm.JvmMetrics - Cannot initialize JVM Metrics with processName=JobTracker, sessionId= - already initialized\n",
      "2020-01-29 01:13:37,551 [main] INFO  org.apache.hadoop.metrics.jvm.JvmMetrics - Cannot initialize JVM Metrics with processName=JobTracker, sessionId= - already initialized\n"
     ]
    }
   ],
   "source": [
    "%%pig\n",
    "\n",
    "--\n",
    "-- >>> Escriba su respuesta a partir de este punto <<<\n",
    "--\n",
    "datos = FOREACH u GENERATE\n",
    "        ToString(ToDate(birthday, 'yyyy-MM-dd'),'yyyy-MM-dd'),\n",
    "        ToString(ToDate(birthday, 'yyyy-MM-dd'),'dd'),\n",
    "        ToString(ToDate(birthday, 'yyyy-MM-dd'),'d'),\n",
    "        LOWER(ToString(ToDate(birthday, 'yyyy-MM-dd'),'EEE')),\n",
    "        LOWER(ToString(ToDate(birthday, 'yyyy-MM-dd'),'EEE'));\n",
    "\n",
    "STORE datos INTO 'output' USING PigStorage(',');"
   ]
  },
  {
   "cell_type": "code",
   "execution_count": null,
   "metadata": {},
   "outputs": [],
   "source": []
  },
  {
   "cell_type": "code",
   "execution_count": null,
   "metadata": {},
   "outputs": [],
   "source": []
  }
 ],
 "metadata": {
  "kernelspec": {
   "display_name": "Python 3",
   "language": "python",
   "name": "python3"
  },
  "language_info": {
   "codemirror_mode": {
    "name": "ipython",
    "version": 3
   },
   "file_extension": ".py",
   "mimetype": "text/x-python",
   "name": "python",
   "nbconvert_exporter": "python",
   "pygments_lexer": "ipython3",
   "version": "3.6.8"
  }
 },
 "nbformat": 4,
 "nbformat_minor": 4
}
