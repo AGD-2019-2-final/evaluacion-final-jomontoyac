{
 "cells": [
  {
   "cell_type": "code",
   "execution_count": 10,
   "metadata": {},
   "outputs": [
    {
     "name": "stdout",
     "output_type": "stream",
     "text": [
      "The bigdata extension is already loaded. To reload it, use:\n",
      "  %reload_ext bigdata\n"
     ]
    }
   ],
   "source": [
    "%load_ext bigdata"
   ]
  },
  {
   "cell_type": "code",
   "execution_count": 11,
   "metadata": {},
   "outputs": [],
   "source": [
    "!rm -rf output"
   ]
  },
  {
   "cell_type": "code",
   "execution_count": 12,
   "metadata": {},
   "outputs": [
    {
     "name": "stdout",
     "output_type": "stream",
     "text": [
      "tabla = LOAD 'data.csv' USING PigStorage(',')\n",
      "    AS (id:INT\n",
      "        ,firstname:CHARARRAY\n",
      "        ,surname:CHARARRAY\n",
      "        ,birthday:CHARARRAY\n",
      "        ,color:CHARARRAY\n",
      "        ,quantity:INT\n",
      "        )\n",
      ";\n"
     ]
    }
   ],
   "source": [
    "%%pig\n",
    "tabla = LOAD 'data.csv' USING PigStorage(',')\n",
    "    AS (id:INT\n",
    "        ,firstname:CHARARRAY\n",
    "        ,surname:CHARARRAY\n",
    "        ,birthday:CHARARRAY\n",
    "        ,color:CHARARRAY\n",
    "        ,quantity:INT\n",
    "        )\n",
    ";\n"
   ]
  },
  {
   "cell_type": "code",
   "execution_count": 17,
   "metadata": {},
   "outputs": [
    {
     "name": "stdout",
     "output_type": "stream",
     "text": [
      "t = FOREACH tabla GENERATE surname AS apellido, SIZE(surname) AS tamano;\n",
      "DUMP t;\n",
      "-- orden = ORDER t BY tamano DESC, apellido ASC;\n",
      "-- DUMP orden;\n",
      "-- STORE orden INTO 'output' USING PigStorage(',');\n"
     ]
    }
   ],
   "source": [
    "%%pig\n",
    "t = FOREACH u GENERATE surname AS apellido, SIZE(surname) AS tamano;\n",
    "orden = ORDER t BY tamano DESC, apellido ASC;\n",
    "primeros = LIMIT orden 5;\n",
    "STORE primeros INTO 'output' USING PigStorage(',');"
   ]
  },
  {
   "cell_type": "code",
   "execution_count": null,
   "metadata": {},
   "outputs": [],
   "source": []
  }
 ],
 "metadata": {
  "kernelspec": {
   "display_name": "Python 3",
   "language": "python",
   "name": "python3"
  },
  "language_info": {
   "codemirror_mode": {
    "name": "ipython",
    "version": 3
   },
   "file_extension": ".py",
   "mimetype": "text/x-python",
   "name": "python",
   "nbconvert_exporter": "python",
   "pygments_lexer": "ipython3",
   "version": "3.6.8"
  }
 },
 "nbformat": 4,
 "nbformat_minor": 4
}
