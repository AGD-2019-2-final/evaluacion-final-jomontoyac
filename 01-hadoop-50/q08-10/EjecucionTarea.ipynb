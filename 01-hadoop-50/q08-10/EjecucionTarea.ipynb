{
 "cells": [
  {
   "cell_type": "code",
   "execution_count": 3,
   "metadata": {},
   "outputs": [
    {
     "name": "stdout",
     "output_type": "stream",
     "text": [
      "A\t165.0\t13.75\n",
      "B\t136.0\t13.6\n",
      "C\t48.0\t12.0\n",
      "D\t15.0\t15.0\n",
      "E\t192.0\t14.76923076923077\n"
     ]
    }
   ],
   "source": [
    "!cat ./data.csv | python3 mapper.py | sort | python3 reducer.py"
   ]
  }
 ],
 "metadata": {
  "kernelspec": {
   "display_name": "Python 3",
   "language": "python",
   "name": "python3"
  },
  "language_info": {
   "codemirror_mode": {
    "name": "ipython",
    "version": 3
   },
   "file_extension": ".py",
   "mimetype": "text/x-python",
   "name": "python",
   "nbconvert_exporter": "python",
   "pygments_lexer": "ipython3",
   "version": "3.6.8"
  }
 },
 "nbformat": 4,
 "nbformat_minor": 4
}
