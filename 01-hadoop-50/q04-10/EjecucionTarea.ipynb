{
 "cells": [
  {
   "cell_type": "code",
   "execution_count": 3,
   "metadata": {},
   "outputs": [
    {
     "name": "stdout",
     "output_type": "stream",
     "text": [
      "A\t10\n",
      "A\t11\n",
      "A\t12\n",
      "A\t12\n",
      "A\t13\n",
      "A\t13\n",
      "A\t14\n",
      "A\t14\n",
      "A\t14\n",
      "A\t16\n",
      "A\t18\n",
      "A\t18\n",
      "B\t10\n",
      "B\t12\n",
      "B\t13\n",
      "B\t13\n",
      "B\t14\n",
      "B\t14\n",
      "B\t14\n",
      "B\t14\n",
      "B\t15\n",
      "B\t17\n",
      "C\t10\n",
      "C\t10\n",
      "C\t13\n",
      "C\t15\n",
      "D\t15\n",
      "E\t10\n",
      "E\t11\n",
      "E\t12\n",
      "E\t13\n",
      "E\t14\n",
      "E\t15\n",
      "E\t16\n",
      "E\t16\n",
      "E\t16\n",
      "E\t16\n",
      "E\t17\n",
      "E\t18\n",
      "E\t18\n"
     ]
    }
   ],
   "source": [
    "!cat ./data.csv | python3 mapper.py | sort | python3 reducer.py"
   ]
  },
  {
   "cell_type": "code",
   "execution_count": null,
   "metadata": {},
   "outputs": [],
   "source": []
  }
 ],
 "metadata": {
  "kernelspec": {
   "display_name": "Python 3",
   "language": "python",
   "name": "python3"
  },
  "language_info": {
   "codemirror_mode": {
    "name": "ipython",
    "version": 3
   },
   "file_extension": ".py",
   "mimetype": "text/x-python",
   "name": "python",
   "nbconvert_exporter": "python",
   "pygments_lexer": "ipython3",
   "version": "3.6.8"
  }
 },
 "nbformat": 4,
 "nbformat_minor": 4
}
