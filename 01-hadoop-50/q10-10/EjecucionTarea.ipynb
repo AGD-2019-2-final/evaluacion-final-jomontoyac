{
 "cells": [
  {
   "cell_type": "code",
   "execution_count": 17,
   "metadata": {},
   "outputs": [
    {
     "name": "stdout",
     "output_type": "stream",
     "text": [
      "A\t0,1,5,7,8,9,10,12,13,14,15,16,17,18,21,23,24,25,26,27,28,29\n",
      "B\t0,1,2,3,5,6,7,8,9,10,11,12,15,16,17,18,19,20,21,22,23,25,26,27,29\n",
      "C\t0,1,3,4,5,6,7,9,10,11,12,14,15,17,20,21,22,23,25,28,29\n",
      "D\t0,1,3,4,5,6,6,7,8,9,9,10,11,12,12,13,14,15,16,17,18,19,19,20,20,21,23,23,24,26,26,27,28,29,29\n",
      "F\t0,1,2,6,7,8,9,11,12,13,15,17,18,19,20,21,22,23,24,25,26,27,28,29\n",
      "G\t2,4,6,7,9,11,12,14,15,17,20,21,22,24,25,26,27,29\n",
      "H\t0,1,2,4,5,6,7,10,11,12,15,17,18,20,22,23,24,25,26,27,28,29\n",
      "I\t0,1,2,4,7,8,9,11,15,16,18,19,20,22,25,26,27\n"
     ]
    }
   ],
   "source": [
    "!cat ./data.csv | python3 mapper.py | sort | python3 reducer.py"
   ]
  }
 ],
 "metadata": {
  "kernelspec": {
   "display_name": "Python 3",
   "language": "python",
   "name": "python3"
  },
  "language_info": {
   "codemirror_mode": {
    "name": "ipython",
    "version": 3
   },
   "file_extension": ".py",
   "mimetype": "text/x-python",
   "name": "python",
   "nbconvert_exporter": "python",
   "pygments_lexer": "ipython3",
   "version": "3.6.8"
  }
 },
 "nbformat": 4,
 "nbformat_minor": 4
}
