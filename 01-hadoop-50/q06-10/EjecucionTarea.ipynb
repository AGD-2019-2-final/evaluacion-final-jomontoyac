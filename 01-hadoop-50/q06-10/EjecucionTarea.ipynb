{
 "cells": [
  {
   "cell_type": "code",
   "execution_count": 4,
   "metadata": {},
   "outputs": [
    {
     "name": "stdout",
     "output_type": "stream",
     "text": [
      "A\t18.4\t10.7\n",
      "B\t17.0\t10.7\n",
      "C\t15.3\t10.2\n",
      "D\t15.1\t15.1\n",
      "E\t18.8\t10.5\n"
     ]
    }
   ],
   "source": [
    "!cat ./data.csv | python3 mapper.py | sort | python3 reducer.py"
   ]
  }
 ],
 "metadata": {
  "kernelspec": {
   "display_name": "Python 3",
   "language": "python",
   "name": "python3"
  },
  "language_info": {
   "codemirror_mode": {
    "name": "ipython",
    "version": 3
   },
   "file_extension": ".py",
   "mimetype": "text/x-python",
   "name": "python",
   "nbconvert_exporter": "python",
   "pygments_lexer": "ipython3",
   "version": "3.6.8"
  }
 },
 "nbformat": 4,
 "nbformat_minor": 4
}
