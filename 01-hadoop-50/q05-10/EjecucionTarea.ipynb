{
 "cells": [
  {
   "cell_type": "code",
   "execution_count": 6,
   "metadata": {},
   "outputs": [
    {
     "name": "stdout",
     "output_type": "stream",
     "text": [
      "01\t4\n",
      "02\t5\n",
      "03\t1\n",
      "04\t3\n",
      "05\t2\n",
      "06\t1\n",
      "07\t3\n",
      "08\t5\n",
      "09\t7\n",
      "10\t5\n",
      "11\t1\n",
      "12\t3\n"
     ]
    }
   ],
   "source": [
    "!cat ./data.csv | python3 mapper.py | sort | python3 reducer.py"
   ]
  }
 ],
 "metadata": {
  "kernelspec": {
   "display_name": "Python 3",
   "language": "python",
   "name": "python3"
  },
  "language_info": {
   "codemirror_mode": {
    "name": "ipython",
    "version": 3
   },
   "file_extension": ".py",
   "mimetype": "text/x-python",
   "name": "python",
   "nbconvert_exporter": "python",
   "pygments_lexer": "ipython3",
   "version": "3.6.8"
  }
 },
 "nbformat": 4,
 "nbformat_minor": 4
}
